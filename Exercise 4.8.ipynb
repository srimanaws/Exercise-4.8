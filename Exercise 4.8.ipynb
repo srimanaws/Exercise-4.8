{
 "cells": [
  {
   "cell_type": "code",
   "execution_count": 2,
   "id": "d1655dc4-22ed-4c36-b2ad-21c7b7dbc141",
   "metadata": {},
   "outputs": [
    {
     "name": "stdout",
     "output_type": "stream",
     "text": [
      "Rounded to the nearest integer: 14\n",
      "Rounded to the nearest tenth: 13.6\n",
      "Rounded to the nearest hundredth: 13.56\n",
      "Rounded to the nearest thousandth: 13.564\n"
     ]
    }
   ],
   "source": [
    "# Exercise: Rounding Numbers\n",
    "# Author: Sriman\n",
    "\n",
    "# Float value to round\n",
    "value = 13.56449\n",
    "\n",
    "# Round to the nearest integer\n",
    "nearest_integer = round(value)\n",
    "print(\"Rounded to the nearest integer:\", nearest_integer)\n",
    "\n",
    "# Round to the nearest tenth (1 decimal place)\n",
    "nearest_tenth = round(value, 1)\n",
    "print(\"Rounded to the nearest tenth:\", nearest_tenth)\n",
    "\n",
    "# Round to the nearest hundredth (2 decimal places)\n",
    "nearest_hundredth = round(value, 2)\n",
    "print(\"Rounded to the nearest hundredth:\", nearest_hundredth)\n",
    "\n",
    "# Round to the nearest thousandth (3 decimal places)\n",
    "nearest_thousandth = round(value, 3)\n",
    "print(\"Rounded to the nearest thousandth:\", nearest_thousandth)\n"
   ]
  },
  {
   "cell_type": "code",
   "execution_count": null,
   "id": "ee2dc652-ec25-42f0-a27e-24ea58895027",
   "metadata": {},
   "outputs": [],
   "source": []
  }
 ],
 "metadata": {
  "kernelspec": {
   "display_name": "Python 3 (ipykernel)",
   "language": "python",
   "name": "python3"
  },
  "language_info": {
   "codemirror_mode": {
    "name": "ipython",
    "version": 3
   },
   "file_extension": ".py",
   "mimetype": "text/x-python",
   "name": "python",
   "nbconvert_exporter": "python",
   "pygments_lexer": "ipython3",
   "version": "3.12.4"
  }
 },
 "nbformat": 4,
 "nbformat_minor": 5
}
